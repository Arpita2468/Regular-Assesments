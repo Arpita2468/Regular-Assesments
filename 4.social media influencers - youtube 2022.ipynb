{
 "cells": [
  {
   "cell_type": "code",
   "execution_count": 1,
   "metadata": {},
   "outputs": [
    {
     "data": {
      "text/html": [
       "<div>\n",
       "<style scoped>\n",
       "    .dataframe tbody tr th:only-of-type {\n",
       "        vertical-align: middle;\n",
       "    }\n",
       "\n",
       "    .dataframe tbody tr th {\n",
       "        vertical-align: top;\n",
       "    }\n",
       "\n",
       "    .dataframe thead th {\n",
       "        text-align: right;\n",
       "    }\n",
       "</style>\n",
       "<table border=\"1\" class=\"dataframe\">\n",
       "  <thead>\n",
       "    <tr style=\"text-align: right;\">\n",
       "      <th></th>\n",
       "      <th>S.no</th>\n",
       "      <th>Name</th>\n",
       "      <th>Youtuber</th>\n",
       "      <th>Country</th>\n",
       "      <th>Subscribers</th>\n",
       "      <th>Category_2</th>\n",
       "      <th>Avg. views\\r\\n</th>\n",
       "      <th>Avg. likes</th>\n",
       "      <th>Avg Comments</th>\n",
       "      <th>Category_3</th>\n",
       "    </tr>\n",
       "  </thead>\n",
       "  <tbody>\n",
       "    <tr>\n",
       "      <th>0</th>\n",
       "      <td>1</td>\n",
       "      <td>T-Series</td>\n",
       "      <td>tseries</td>\n",
       "      <td>India</td>\n",
       "      <td>224.4M</td>\n",
       "      <td>Music &amp; Dance</td>\n",
       "      <td>141.5K</td>\n",
       "      <td>4.6K</td>\n",
       "      <td>125</td>\n",
       "      <td>NaN</td>\n",
       "    </tr>\n",
       "    <tr>\n",
       "      <th>1</th>\n",
       "      <td>2</td>\n",
       "      <td>Cocomelon - Nursery Rhymes</td>\n",
       "      <td>checkgate</td>\n",
       "      <td>NaN</td>\n",
       "      <td>142.5M</td>\n",
       "      <td>Education</td>\n",
       "      <td>12.5M</td>\n",
       "      <td>64.8K</td>\n",
       "      <td>0</td>\n",
       "      <td>NaN</td>\n",
       "    </tr>\n",
       "    <tr>\n",
       "      <th>2</th>\n",
       "      <td>3</td>\n",
       "      <td>PewDiePie</td>\n",
       "      <td>PewDiePie</td>\n",
       "      <td>United States</td>\n",
       "      <td>111.6M</td>\n",
       "      <td>Animation</td>\n",
       "      <td>1.9M</td>\n",
       "      <td>130.5K</td>\n",
       "      <td>7.4K</td>\n",
       "      <td>NaN</td>\n",
       "    </tr>\n",
       "    <tr>\n",
       "      <th>3</th>\n",
       "      <td>4</td>\n",
       "      <td>MrBeast</td>\n",
       "      <td>MrBeast6000</td>\n",
       "      <td>United States</td>\n",
       "      <td>104.1M</td>\n",
       "      <td>Video games</td>\n",
       "      <td>44.8M</td>\n",
       "      <td>2.2M</td>\n",
       "      <td>70.9K</td>\n",
       "      <td>Humor</td>\n",
       "    </tr>\n",
       "    <tr>\n",
       "      <th>4</th>\n",
       "      <td>5</td>\n",
       "      <td>✿ Kids Diana Show</td>\n",
       "      <td>✿ Kids Diana Show</td>\n",
       "      <td>NaN</td>\n",
       "      <td>100.5M</td>\n",
       "      <td>Animation</td>\n",
       "      <td>6.9M</td>\n",
       "      <td>34.8K</td>\n",
       "      <td>0</td>\n",
       "      <td>Toys</td>\n",
       "    </tr>\n",
       "  </tbody>\n",
       "</table>\n",
       "</div>"
      ],
      "text/plain": [
       "   S.no                        Name           Youtuber        Country  \\\n",
       "0     1                    T-Series            tseries          India   \n",
       "1     2  Cocomelon - Nursery Rhymes          checkgate            NaN   \n",
       "2     3                   PewDiePie          PewDiePie  United States   \n",
       "3     4                     MrBeast        MrBeast6000  United States   \n",
       "4     5           ✿ Kids Diana Show  ✿ Kids Diana Show            NaN   \n",
       "\n",
       "   Subscribers     Category_2 Avg. views\\r\\n Avg. likes Avg Comments  \\\n",
       "0       224.4M  Music & Dance         141.5K       4.6K          125   \n",
       "1       142.5M      Education          12.5M      64.8K            0   \n",
       "2       111.6M      Animation           1.9M     130.5K         7.4K   \n",
       "3       104.1M    Video games          44.8M       2.2M        70.9K   \n",
       "4       100.5M      Animation           6.9M      34.8K            0   \n",
       "\n",
       "  Category_3  \n",
       "0        NaN  \n",
       "1        NaN  \n",
       "2        NaN  \n",
       "3      Humor  \n",
       "4       Toys  "
      ]
     },
     "execution_count": 1,
     "metadata": {},
     "output_type": "execute_result"
    }
   ],
   "source": [
    "import pandas as pd\n",
    "import numpy as np\n",
    "social=pd.read_csv('D:/PYTHON/0_PROJECT/CSV Files/social media influencers - Youtube sep-2022.csv')\n",
    "social.head()"
   ]
  },
  {
   "cell_type": "code",
   "execution_count": 2,
   "metadata": {},
   "outputs": [],
   "source": [
    "def ctv(a):\n",
    "    if a is not np.nan:\n",
    "        if a.endswith('M'):\n",
    "            return float(a[:-1]) * 1_000_000\n",
    "        if a.endswith('K'):\n",
    "            return float(a[:-1]) * 1_000\n",
    "        else:\n",
    "            return float(a)\n",
    "    else:\n",
    "        pass"
   ]
  },
  {
   "cell_type": "code",
   "execution_count": 3,
   "metadata": {},
   "outputs": [
    {
     "name": "stdout",
     "output_type": "stream",
     "text": [
      "<class 'pandas.core.frame.DataFrame'>\n",
      "RangeIndex: 1047 entries, 0 to 1046\n",
      "Data columns (total 10 columns):\n",
      " #   Column        Non-Null Count  Dtype \n",
      "---  ------        --------------  ----- \n",
      " 0   S.no          1047 non-null   int64 \n",
      " 1   Name          1047 non-null   object\n",
      " 2   Youtuber      1047 non-null   object\n",
      " 3   Country       868 non-null    object\n",
      " 4    Subscribers  1047 non-null   object\n",
      " 5   Category_2    746 non-null    object\n",
      " 6   Avg. views\n",
      "  1047 non-null   object\n",
      " 7   Avg. likes    1047 non-null   object\n",
      " 8   Avg Comments  1047 non-null   object\n",
      " 9   Category_3    280 non-null    object\n",
      "dtypes: int64(1), object(9)\n",
      "memory usage: 81.9+ KB\n"
     ]
    },
    {
     "data": {
      "text/html": [
       "<div>\n",
       "<style scoped>\n",
       "    .dataframe tbody tr th:only-of-type {\n",
       "        vertical-align: middle;\n",
       "    }\n",
       "\n",
       "    .dataframe tbody tr th {\n",
       "        vertical-align: top;\n",
       "    }\n",
       "\n",
       "    .dataframe thead th {\n",
       "        text-align: right;\n",
       "    }\n",
       "</style>\n",
       "<table border=\"1\" class=\"dataframe\">\n",
       "  <thead>\n",
       "    <tr style=\"text-align: right;\">\n",
       "      <th></th>\n",
       "      <th>S.no</th>\n",
       "      <th>Name</th>\n",
       "      <th>Youtuber</th>\n",
       "      <th>Country</th>\n",
       "      <th>Subscribers</th>\n",
       "      <th>Category_2</th>\n",
       "      <th>Avg. views\\r\\n</th>\n",
       "      <th>Avg. likes</th>\n",
       "      <th>Avg Comments</th>\n",
       "      <th>Category_3</th>\n",
       "    </tr>\n",
       "  </thead>\n",
       "  <tbody>\n",
       "    <tr>\n",
       "      <th>0</th>\n",
       "      <td>1</td>\n",
       "      <td>T-Series</td>\n",
       "      <td>tseries</td>\n",
       "      <td>India</td>\n",
       "      <td>224.4M</td>\n",
       "      <td>Music &amp; Dance</td>\n",
       "      <td>141.5K</td>\n",
       "      <td>4.6K</td>\n",
       "      <td>125</td>\n",
       "      <td>NaN</td>\n",
       "    </tr>\n",
       "    <tr>\n",
       "      <th>1</th>\n",
       "      <td>2</td>\n",
       "      <td>Cocomelon - Nursery Rhymes</td>\n",
       "      <td>checkgate</td>\n",
       "      <td>NaN</td>\n",
       "      <td>142.5M</td>\n",
       "      <td>Education</td>\n",
       "      <td>12.5M</td>\n",
       "      <td>64.8K</td>\n",
       "      <td>0</td>\n",
       "      <td>NaN</td>\n",
       "    </tr>\n",
       "    <tr>\n",
       "      <th>2</th>\n",
       "      <td>3</td>\n",
       "      <td>PewDiePie</td>\n",
       "      <td>PewDiePie</td>\n",
       "      <td>United States</td>\n",
       "      <td>111.6M</td>\n",
       "      <td>Animation</td>\n",
       "      <td>1.9M</td>\n",
       "      <td>130.5K</td>\n",
       "      <td>7.4K</td>\n",
       "      <td>NaN</td>\n",
       "    </tr>\n",
       "    <tr>\n",
       "      <th>3</th>\n",
       "      <td>4</td>\n",
       "      <td>MrBeast</td>\n",
       "      <td>MrBeast6000</td>\n",
       "      <td>United States</td>\n",
       "      <td>104.1M</td>\n",
       "      <td>Video games</td>\n",
       "      <td>44.8M</td>\n",
       "      <td>2.2M</td>\n",
       "      <td>70.9K</td>\n",
       "      <td>Humor</td>\n",
       "    </tr>\n",
       "    <tr>\n",
       "      <th>4</th>\n",
       "      <td>5</td>\n",
       "      <td>✿ Kids Diana Show</td>\n",
       "      <td>✿ Kids Diana Show</td>\n",
       "      <td>NaN</td>\n",
       "      <td>100.5M</td>\n",
       "      <td>Animation</td>\n",
       "      <td>6.9M</td>\n",
       "      <td>34.8K</td>\n",
       "      <td>0</td>\n",
       "      <td>Toys</td>\n",
       "    </tr>\n",
       "  </tbody>\n",
       "</table>\n",
       "</div>"
      ],
      "text/plain": [
       "   S.no                        Name           Youtuber        Country  \\\n",
       "0     1                    T-Series            tseries          India   \n",
       "1     2  Cocomelon - Nursery Rhymes          checkgate            NaN   \n",
       "2     3                   PewDiePie          PewDiePie  United States   \n",
       "3     4                     MrBeast        MrBeast6000  United States   \n",
       "4     5           ✿ Kids Diana Show  ✿ Kids Diana Show            NaN   \n",
       "\n",
       "   Subscribers     Category_2 Avg. views\\r\\n Avg. likes Avg Comments  \\\n",
       "0       224.4M  Music & Dance         141.5K       4.6K          125   \n",
       "1       142.5M      Education          12.5M      64.8K            0   \n",
       "2       111.6M      Animation           1.9M     130.5K         7.4K   \n",
       "3       104.1M    Video games          44.8M       2.2M        70.9K   \n",
       "4       100.5M      Animation           6.9M      34.8K            0   \n",
       "\n",
       "  Category_3  \n",
       "0        NaN  \n",
       "1        NaN  \n",
       "2        NaN  \n",
       "3      Humor  \n",
       "4       Toys  "
      ]
     },
     "execution_count": 3,
     "metadata": {},
     "output_type": "execute_result"
    }
   ],
   "source": [
    "social.info()\n",
    "social.head()"
   ]
  },
  {
   "cell_type": "code",
   "execution_count": 4,
   "metadata": {},
   "outputs": [],
   "source": [
    "social['Avg. views\\r\\n']=social['Avg. views\\r\\n'].apply(ctv)\n",
    "social['Avg. likes']=social['Avg. likes'].apply(ctv)\n",
    "social['Avg Comments']=social['Avg Comments'].apply(ctv)"
   ]
  },
  {
   "cell_type": "code",
   "execution_count": 5,
   "metadata": {},
   "outputs": [
    {
     "data": {
      "text/html": [
       "<div>\n",
       "<style scoped>\n",
       "    .dataframe tbody tr th:only-of-type {\n",
       "        vertical-align: middle;\n",
       "    }\n",
       "\n",
       "    .dataframe tbody tr th {\n",
       "        vertical-align: top;\n",
       "    }\n",
       "\n",
       "    .dataframe thead th {\n",
       "        text-align: right;\n",
       "    }\n",
       "</style>\n",
       "<table border=\"1\" class=\"dataframe\">\n",
       "  <thead>\n",
       "    <tr style=\"text-align: right;\">\n",
       "      <th></th>\n",
       "      <th>S.no</th>\n",
       "      <th>Name</th>\n",
       "      <th>Youtuber</th>\n",
       "      <th>Country</th>\n",
       "      <th>Subscribers</th>\n",
       "      <th>Category_2</th>\n",
       "      <th>Avg. views\\r\\n</th>\n",
       "      <th>Avg. likes</th>\n",
       "      <th>Avg Comments</th>\n",
       "      <th>Category_3</th>\n",
       "    </tr>\n",
       "  </thead>\n",
       "  <tbody>\n",
       "    <tr>\n",
       "      <th>0</th>\n",
       "      <td>1</td>\n",
       "      <td>T-Series</td>\n",
       "      <td>tseries</td>\n",
       "      <td>India</td>\n",
       "      <td>224.4M</td>\n",
       "      <td>Music &amp; Dance</td>\n",
       "      <td>141500.0</td>\n",
       "      <td>4600.0</td>\n",
       "      <td>125.0</td>\n",
       "      <td>NaN</td>\n",
       "    </tr>\n",
       "    <tr>\n",
       "      <th>1</th>\n",
       "      <td>2</td>\n",
       "      <td>Cocomelon - Nursery Rhymes</td>\n",
       "      <td>checkgate</td>\n",
       "      <td>NaN</td>\n",
       "      <td>142.5M</td>\n",
       "      <td>Education</td>\n",
       "      <td>12500000.0</td>\n",
       "      <td>64800.0</td>\n",
       "      <td>0.0</td>\n",
       "      <td>NaN</td>\n",
       "    </tr>\n",
       "    <tr>\n",
       "      <th>2</th>\n",
       "      <td>3</td>\n",
       "      <td>PewDiePie</td>\n",
       "      <td>PewDiePie</td>\n",
       "      <td>United States</td>\n",
       "      <td>111.6M</td>\n",
       "      <td>Animation</td>\n",
       "      <td>1900000.0</td>\n",
       "      <td>130500.0</td>\n",
       "      <td>7400.0</td>\n",
       "      <td>NaN</td>\n",
       "    </tr>\n",
       "    <tr>\n",
       "      <th>3</th>\n",
       "      <td>4</td>\n",
       "      <td>MrBeast</td>\n",
       "      <td>MrBeast6000</td>\n",
       "      <td>United States</td>\n",
       "      <td>104.1M</td>\n",
       "      <td>Video games</td>\n",
       "      <td>44800000.0</td>\n",
       "      <td>2200000.0</td>\n",
       "      <td>70900.0</td>\n",
       "      <td>Humor</td>\n",
       "    </tr>\n",
       "    <tr>\n",
       "      <th>4</th>\n",
       "      <td>5</td>\n",
       "      <td>✿ Kids Diana Show</td>\n",
       "      <td>✿ Kids Diana Show</td>\n",
       "      <td>NaN</td>\n",
       "      <td>100.5M</td>\n",
       "      <td>Animation</td>\n",
       "      <td>6900000.0</td>\n",
       "      <td>34800.0</td>\n",
       "      <td>0.0</td>\n",
       "      <td>Toys</td>\n",
       "    </tr>\n",
       "  </tbody>\n",
       "</table>\n",
       "</div>"
      ],
      "text/plain": [
       "   S.no                        Name           Youtuber        Country  \\\n",
       "0     1                    T-Series            tseries          India   \n",
       "1     2  Cocomelon - Nursery Rhymes          checkgate            NaN   \n",
       "2     3                   PewDiePie          PewDiePie  United States   \n",
       "3     4                     MrBeast        MrBeast6000  United States   \n",
       "4     5           ✿ Kids Diana Show  ✿ Kids Diana Show            NaN   \n",
       "\n",
       "   Subscribers     Category_2  Avg. views\\r\\n  Avg. likes  Avg Comments  \\\n",
       "0       224.4M  Music & Dance        141500.0      4600.0         125.0   \n",
       "1       142.5M      Education      12500000.0     64800.0           0.0   \n",
       "2       111.6M      Animation       1900000.0    130500.0        7400.0   \n",
       "3       104.1M    Video games      44800000.0   2200000.0       70900.0   \n",
       "4       100.5M      Animation       6900000.0     34800.0           0.0   \n",
       "\n",
       "  Category_3  \n",
       "0        NaN  \n",
       "1        NaN  \n",
       "2        NaN  \n",
       "3      Humor  \n",
       "4       Toys  "
      ]
     },
     "execution_count": 5,
     "metadata": {},
     "output_type": "execute_result"
    }
   ],
   "source": [
    "social.head()"
   ]
  },
  {
   "cell_type": "code",
   "execution_count": 6,
   "metadata": {},
   "outputs": [
    {
     "data": {
      "text/plain": [
       "['Music & Dance',\n",
       " 'Education',\n",
       " 'Animation',\n",
       " 'Video games',\n",
       " 'Toys',\n",
       " 'Movies',\n",
       " 'News & Politics',\n",
       " 'Daily vlogs',\n",
       " 'Humor',\n",
       " 'Design/art',\n",
       " 'Fitness',\n",
       " 'Beauty',\n",
       " 'Food & Drinks',\n",
       " 'DIY & Life Hacks',\n",
       " 'Sports',\n",
       " 'Science & Technology',\n",
       " 'Health & Self Help',\n",
       " 'Animals & Pets',\n",
       " 'ASMR',\n",
       " 'Mystery',\n",
       " 'Fashion',\n",
       " 'Travel',\n",
       " 'Autos & Vehicles']"
      ]
     },
     "execution_count": 6,
     "metadata": {},
     "output_type": "execute_result"
    }
   ],
   "source": [
    "ct=social['Category_2'].dropna().unique().tolist()\n",
    "ct"
   ]
  },
  {
   "cell_type": "code",
   "execution_count": 7,
   "metadata": {},
   "outputs": [],
   "source": [
    "import random as r\n",
    "from pandas import isnull\n",
    "def rcat(a):\n",
    "    if isnull(a):\n",
    "        return r.choice('ct')\n",
    "    else:\n",
    "        return a\n",
    "social['Category_2']=social['Category_2'].apply(rcat)"
   ]
  },
  {
   "cell_type": "code",
   "execution_count": 8,
   "metadata": {},
   "outputs": [
    {
     "data": {
      "text/plain": [
       "S.no                0\n",
       "Name                0\n",
       "Youtuber            0\n",
       "Country           179\n",
       " Subscribers        0\n",
       "Category_2          0\n",
       "Avg. views\\r\\n      0\n",
       "Avg. likes          0\n",
       "Avg Comments        0\n",
       "Category_3        767\n",
       "dtype: int64"
      ]
     },
     "execution_count": 8,
     "metadata": {},
     "output_type": "execute_result"
    }
   ],
   "source": [
    "social.isnull().sum()"
   ]
  },
  {
   "cell_type": "code",
   "execution_count": 9,
   "metadata": {},
   "outputs": [
    {
     "data": {
      "text/plain": [
       "['India',\n",
       " 'United States',\n",
       " 'Brazil',\n",
       " 'Mexico',\n",
       " 'Russia',\n",
       " 'Philippines',\n",
       " 'Spain',\n",
       " 'Thailand',\n",
       " 'Colombia',\n",
       " 'France',\n",
       " 'Pakistan',\n",
       " 'Indonesia',\n",
       " 'Ecuador',\n",
       " 'United Kingdom',\n",
       " 'Turkey',\n",
       " 'Saudi Arabia',\n",
       " 'Argentina',\n",
       " 'Iraq',\n",
       " 'Japan',\n",
       " 'Algeria',\n",
       " 'Bangladesh',\n",
       " 'Egypt',\n",
       " 'Morocco',\n",
       " 'Jordan',\n",
       " 'Peru',\n",
       " 'Somalia',\n",
       " 'Malaysia']"
      ]
     },
     "execution_count": 9,
     "metadata": {},
     "output_type": "execute_result"
    }
   ],
   "source": [
    "st=social['Country'].dropna().unique().tolist()\n",
    "st"
   ]
  },
  {
   "cell_type": "code",
   "execution_count": 10,
   "metadata": {},
   "outputs": [],
   "source": [
    "import random as r\n",
    "from pandas import isnull\n",
    "def rcat(a):\n",
    "    if isnull(a):\n",
    "        return r.choice('st')\n",
    "    else:\n",
    "        return a\n",
    "social['Country']=social['Country'].apply(rcat)"
   ]
  },
  {
   "cell_type": "code",
   "execution_count": 11,
   "metadata": {},
   "outputs": [
    {
     "data": {
      "text/plain": [
       "S.no                0\n",
       "Name                0\n",
       "Youtuber            0\n",
       "Country             0\n",
       " Subscribers        0\n",
       "Category_2          0\n",
       "Avg. views\\r\\n      0\n",
       "Avg. likes          0\n",
       "Avg Comments        0\n",
       "Category_3        767\n",
       "dtype: int64"
      ]
     },
     "execution_count": 11,
     "metadata": {},
     "output_type": "execute_result"
    }
   ],
   "source": [
    "social.isnull().sum()"
   ]
  },
  {
   "cell_type": "code",
   "execution_count": 12,
   "metadata": {},
   "outputs": [
    {
     "data": {
      "text/plain": [
       "['Humor',\n",
       " 'Toys',\n",
       " 'Animation',\n",
       " 'Movies',\n",
       " 'Video games',\n",
       " 'DIY & Life Hacks',\n",
       " 'Health & Self Help',\n",
       " 'Fashion',\n",
       " 'Education',\n",
       " 'Beauty',\n",
       " 'News & Politics',\n",
       " 'Food & Drinks',\n",
       " 'Autos & Vehicles',\n",
       " 'Design/art',\n",
       " 'Science & Technology']"
      ]
     },
     "execution_count": 12,
     "metadata": {},
     "output_type": "execute_result"
    }
   ],
   "source": [
    "at=social['Category_3'].dropna().unique().tolist()\n",
    "at"
   ]
  },
  {
   "cell_type": "code",
   "execution_count": 13,
   "metadata": {},
   "outputs": [],
   "source": [
    "import random as r\n",
    "from pandas import isnull\n",
    "def rcat(a):\n",
    "    if isnull(a):\n",
    "        return r.choice('at')\n",
    "    else:\n",
    "        return a\n",
    "social['Category_3']=social['Category_3'].apply(rcat)"
   ]
  },
  {
   "cell_type": "code",
   "execution_count": 14,
   "metadata": {},
   "outputs": [
    {
     "data": {
      "text/plain": [
       "S.no              0\n",
       "Name              0\n",
       "Youtuber          0\n",
       "Country           0\n",
       " Subscribers      0\n",
       "Category_2        0\n",
       "Avg. views\\r\\n    0\n",
       "Avg. likes        0\n",
       "Avg Comments      0\n",
       "Category_3        0\n",
       "dtype: int64"
      ]
     },
     "execution_count": 14,
     "metadata": {},
     "output_type": "execute_result"
    }
   ],
   "source": [
    "social.isnull().sum()"
   ]
  },
  {
   "cell_type": "code",
   "execution_count": 17,
   "metadata": {},
   "outputs": [
    {
     "ename": "TypeError",
     "evalue": "'DataFrameGroupBy' object is not callable",
     "output_type": "error",
     "traceback": [
      "\u001b[1;31m---------------------------------------------------------------------------\u001b[0m",
      "\u001b[1;31mTypeError\u001b[0m                                 Traceback (most recent call last)",
      "Cell \u001b[1;32mIn[17], line 4\u001b[0m\n\u001b[0;32m      2\u001b[0m ap\u001b[38;5;241m=\u001b[39msocial\u001b[38;5;241m.\u001b[39mhead(\u001b[38;5;241m100\u001b[39m)\n\u001b[0;32m      3\u001b[0m gra\u001b[38;5;241m=\u001b[39map\u001b[38;5;241m.\u001b[39mgroupby([\u001b[38;5;124m'\u001b[39m\u001b[38;5;124mCountry\u001b[39m\u001b[38;5;124m'\u001b[39m, \u001b[38;5;124m'\u001b[39m\u001b[38;5;124mCategory_2\u001b[39m\u001b[38;5;124m'\u001b[39m])\n\u001b[1;32m----> 4\u001b[0m pivot\u001b[38;5;241m=\u001b[39m\u001b[43mgra\u001b[49m\u001b[43m(\u001b[49m\u001b[43mindex\u001b[49m\u001b[38;5;241;43m=\u001b[39;49m\u001b[38;5;124;43m'\u001b[39;49m\u001b[38;5;124;43mCountry\u001b[39;49m\u001b[38;5;124;43m'\u001b[39;49m\u001b[43m,\u001b[49m\u001b[43m \u001b[49m\u001b[43mcolumns\u001b[49m\u001b[38;5;241;43m=\u001b[39;49m\u001b[38;5;124;43m'\u001b[39;49m\u001b[38;5;124;43mCategory_2\u001b[39;49m\u001b[38;5;124;43m'\u001b[39;49m\u001b[43m,\u001b[49m\u001b[43m \u001b[49m\u001b[43mvalues\u001b[49m\u001b[38;5;241;43m=\u001b[39;49m\u001b[38;5;124;43m'\u001b[39;49m\u001b[38;5;124;43mcounts\u001b[39;49m\u001b[38;5;124;43m'\u001b[39;49m\u001b[43m)\u001b[49m\n\u001b[0;32m      5\u001b[0m fig\u001b[38;5;241m=\u001b[39mbar(pivot, barmode\u001b[38;5;241m=\u001b[39m\u001b[38;5;124m'\u001b[39m\u001b[38;5;124mgroup\u001b[39m\u001b[38;5;124m'\u001b[39m, title\u001b[38;5;241m=\u001b[39m\u001b[38;5;124m'\u001b[39m\u001b[38;5;124mcats in counts\u001b[39m\u001b[38;5;124m'\u001b[39m) \n\u001b[0;32m      6\u001b[0m fig\u001b[38;5;241m.\u001b[39mupdate_layout(xaxis_title\u001b[38;5;241m=\u001b[39m\u001b[38;5;124m\"\u001b[39m\u001b[38;5;124mCountry\u001b[39m\u001b[38;5;124m\"\u001b[39m, yaxis_title\u001b[38;5;241m=\u001b[39m\u001b[38;5;124m\"\u001b[39m\u001b[38;5;124mcategory\u001b[39m\u001b[38;5;124m\"\u001b[39m, xaxis\u001b[38;5;241m=\u001b[39m{\u001b[38;5;124m'\u001b[39m\u001b[38;5;124mcategoryorder\u001b[39m\u001b[38;5;124m'\u001b[39m: \u001b[38;5;124m'\u001b[39m\u001b[38;5;124mtotal descending\u001b[39m\u001b[38;5;124m'\u001b[39m})\n",
      "\u001b[1;31mTypeError\u001b[0m: 'DataFrameGroupBy' object is not callable"
     ]
    }
   ],
   "source": [
    "from plotly.express import * \n",
    "ap=social.head(100)\n",
    "gra=ap.groupby(['Country', 'Category_2'])\n",
    "pivot=gra(index='Country', columns='Category_2', values='counts')\n",
    "fig=bar(pivot, barmode='group', title='cats in counts') \n",
    "fig.update_layout(xaxis_title=\"Country\", yaxis_title=\"category\", xaxis={'categoryorder': 'total descending'})\n",
    "fig.show()"
   ]
  }
 ],
 "metadata": {
  "kernelspec": {
   "display_name": "Python 3",
   "language": "python",
   "name": "python3"
  },
  "language_info": {
   "codemirror_mode": {
    "name": "ipython",
    "version": 3
   },
   "file_extension": ".py",
   "mimetype": "text/x-python",
   "name": "python",
   "nbconvert_exporter": "python",
   "pygments_lexer": "ipython3",
   "version": "3.11.9"
  }
 },
 "nbformat": 4,
 "nbformat_minor": 2
}
